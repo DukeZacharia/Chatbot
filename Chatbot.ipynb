{
 "cells": [
  {
   "cell_type": "code",
   "execution_count": 76,
   "id": "written-mechanism",
   "metadata": {},
   "outputs": [],
   "source": [
    "import pickle\n",
    "import numpy as np"
   ]
  },
  {
   "cell_type": "code",
   "execution_count": 77,
   "id": "southeast-daily",
   "metadata": {},
   "outputs": [],
   "source": [
    "with open(\"train_qa.txt\", \"rb\") as fp:\n",
    "    train_data =  pickle.load(fp)"
   ]
  },
  {
   "cell_type": "code",
   "execution_count": 78,
   "id": "alternate-happening",
   "metadata": {},
   "outputs": [],
   "source": [
    "with open(\"test_qa.txt\", \"rb\") as fp:   # Unpickling\n",
    "    test_data =  pickle.load(fp)"
   ]
  },
  {
   "cell_type": "markdown",
   "id": "mysterious-dialogue",
   "metadata": {},
   "source": [
    "# Format of the Data"
   ]
  },
  {
   "cell_type": "code",
   "execution_count": 79,
   "id": "complete-sacramento",
   "metadata": {},
   "outputs": [
    {
     "data": {
      "text/plain": [
       "list"
      ]
     },
     "execution_count": 79,
     "metadata": {},
     "output_type": "execute_result"
    }
   ],
   "source": [
    "type(test_data)"
   ]
  },
  {
   "cell_type": "code",
   "execution_count": 80,
   "id": "naked-nerve",
   "metadata": {},
   "outputs": [
    {
     "data": {
      "text/plain": [
       "list"
      ]
     },
     "execution_count": 80,
     "metadata": {},
     "output_type": "execute_result"
    }
   ],
   "source": [
    "type(train_data)"
   ]
  },
  {
   "cell_type": "code",
   "execution_count": 81,
   "id": "short-automation",
   "metadata": {},
   "outputs": [
    {
     "data": {
      "text/plain": [
       "10000"
      ]
     },
     "execution_count": 81,
     "metadata": {},
     "output_type": "execute_result"
    }
   ],
   "source": [
    "len(train_data)"
   ]
  },
  {
   "cell_type": "code",
   "execution_count": 82,
   "id": "animated-earthquake",
   "metadata": {},
   "outputs": [
    {
     "data": {
      "text/plain": [
       "(['Mary',\n",
       "  'moved',\n",
       "  'to',\n",
       "  'the',\n",
       "  'bathroom',\n",
       "  '.',\n",
       "  'Sandra',\n",
       "  'journeyed',\n",
       "  'to',\n",
       "  'the',\n",
       "  'bedroom',\n",
       "  '.'],\n",
       " ['Is', 'Sandra', 'in', 'the', 'hallway', '?'],\n",
       " 'no')"
      ]
     },
     "execution_count": 82,
     "metadata": {},
     "output_type": "execute_result"
    }
   ],
   "source": [
    "train_data[0]"
   ]
  },
  {
   "cell_type": "code",
   "execution_count": 83,
   "id": "lonely-christmas",
   "metadata": {},
   "outputs": [
    {
     "data": {
      "text/plain": [
       "'Mary moved to the bathroom . Sandra journeyed to the bedroom .'"
      ]
     },
     "execution_count": 83,
     "metadata": {},
     "output_type": "execute_result"
    }
   ],
   "source": [
    "' '.join(train_data[0][0])"
   ]
  },
  {
   "cell_type": "code",
   "execution_count": 84,
   "id": "preceding-vegetation",
   "metadata": {},
   "outputs": [
    {
     "data": {
      "text/plain": [
       "'Is Sandra in the hallway ?'"
      ]
     },
     "execution_count": 84,
     "metadata": {},
     "output_type": "execute_result"
    }
   ],
   "source": [
    "' '.join(train_data[0][1])"
   ]
  },
  {
   "cell_type": "code",
   "execution_count": 85,
   "id": "described-northern",
   "metadata": {},
   "outputs": [
    {
     "data": {
      "text/plain": [
       "'no'"
      ]
     },
     "execution_count": 85,
     "metadata": {},
     "output_type": "execute_result"
    }
   ],
   "source": [
    "train_data[0][2]"
   ]
  },
  {
   "cell_type": "markdown",
   "id": "serious-boxing",
   "metadata": {},
   "source": [
    "# Setting up Voc of all words"
   ]
  },
  {
   "cell_type": "code",
   "execution_count": 86,
   "id": "passive-proceeding",
   "metadata": {},
   "outputs": [],
   "source": [
    "vocab = set()"
   ]
  },
  {
   "cell_type": "code",
   "execution_count": 87,
   "id": "billion-advisory",
   "metadata": {},
   "outputs": [],
   "source": [
    "all_data = test_data + train_data"
   ]
  },
  {
   "cell_type": "code",
   "execution_count": 88,
   "id": "about-october",
   "metadata": {},
   "outputs": [],
   "source": [
    "for story, question , answer in all_data:\n",
    "    vocab = vocab.union(set(story))\n",
    "    vocab = vocab.union(set(question))"
   ]
  },
  {
   "cell_type": "code",
   "execution_count": 89,
   "id": "distinguished-trading",
   "metadata": {},
   "outputs": [],
   "source": [
    "vocab.add('no')\n",
    "vocab.add('yes')"
   ]
  },
  {
   "cell_type": "code",
   "execution_count": 90,
   "id": "neural-coaching",
   "metadata": {},
   "outputs": [
    {
     "data": {
      "text/plain": [
       "{'.',\n",
       " '?',\n",
       " 'Daniel',\n",
       " 'Is',\n",
       " 'John',\n",
       " 'Mary',\n",
       " 'Sandra',\n",
       " 'apple',\n",
       " 'back',\n",
       " 'bathroom',\n",
       " 'bedroom',\n",
       " 'discarded',\n",
       " 'down',\n",
       " 'dropped',\n",
       " 'football',\n",
       " 'garden',\n",
       " 'got',\n",
       " 'grabbed',\n",
       " 'hallway',\n",
       " 'in',\n",
       " 'journeyed',\n",
       " 'kitchen',\n",
       " 'left',\n",
       " 'milk',\n",
       " 'moved',\n",
       " 'no',\n",
       " 'office',\n",
       " 'picked',\n",
       " 'put',\n",
       " 'the',\n",
       " 'there',\n",
       " 'to',\n",
       " 'took',\n",
       " 'travelled',\n",
       " 'up',\n",
       " 'went',\n",
       " 'yes'}"
      ]
     },
     "execution_count": 90,
     "metadata": {},
     "output_type": "execute_result"
    }
   ],
   "source": [
    "vocab"
   ]
  },
  {
   "cell_type": "code",
   "execution_count": 91,
   "id": "focal-sapphire",
   "metadata": {},
   "outputs": [],
   "source": [
    "vocab_len = len(vocab) + 1"
   ]
  },
  {
   "cell_type": "code",
   "execution_count": 92,
   "id": "legitimate-notification",
   "metadata": {},
   "outputs": [],
   "source": [
    "max_story_len = max([len(data[0]) for data in all_data])"
   ]
  },
  {
   "cell_type": "code",
   "execution_count": 93,
   "id": "manufactured-communications",
   "metadata": {},
   "outputs": [
    {
     "data": {
      "text/plain": [
       "156"
      ]
     },
     "execution_count": 93,
     "metadata": {},
     "output_type": "execute_result"
    }
   ],
   "source": [
    "max_story_len"
   ]
  },
  {
   "cell_type": "code",
   "execution_count": 94,
   "id": "victorian-thermal",
   "metadata": {},
   "outputs": [],
   "source": [
    "max_question_len = max([len(data[1]) for data in all_data])"
   ]
  },
  {
   "cell_type": "code",
   "execution_count": 95,
   "id": "domestic-pollution",
   "metadata": {},
   "outputs": [
    {
     "data": {
      "text/plain": [
       "6"
      ]
     },
     "execution_count": 95,
     "metadata": {},
     "output_type": "execute_result"
    }
   ],
   "source": [
    "max_question_len"
   ]
  },
  {
   "cell_type": "code",
   "execution_count": 96,
   "id": "federal-binding",
   "metadata": {},
   "outputs": [
    {
     "data": {
      "text/plain": [
       "{'.',\n",
       " '?',\n",
       " 'Daniel',\n",
       " 'Is',\n",
       " 'John',\n",
       " 'Mary',\n",
       " 'Sandra',\n",
       " 'apple',\n",
       " 'back',\n",
       " 'bathroom',\n",
       " 'bedroom',\n",
       " 'discarded',\n",
       " 'down',\n",
       " 'dropped',\n",
       " 'football',\n",
       " 'garden',\n",
       " 'got',\n",
       " 'grabbed',\n",
       " 'hallway',\n",
       " 'in',\n",
       " 'journeyed',\n",
       " 'kitchen',\n",
       " 'left',\n",
       " 'milk',\n",
       " 'moved',\n",
       " 'no',\n",
       " 'office',\n",
       " 'picked',\n",
       " 'put',\n",
       " 'the',\n",
       " 'there',\n",
       " 'to',\n",
       " 'took',\n",
       " 'travelled',\n",
       " 'up',\n",
       " 'went',\n",
       " 'yes'}"
      ]
     },
     "execution_count": 96,
     "metadata": {},
     "output_type": "execute_result"
    }
   ],
   "source": [
    "#vectorization of the data\n",
    "vocab\n"
   ]
  },
  {
   "cell_type": "code",
   "execution_count": 97,
   "id": "absent-calendar",
   "metadata": {},
   "outputs": [],
   "source": [
    "vocab_size = len(vocab) + 1"
   ]
  },
  {
   "cell_type": "code",
   "execution_count": 98,
   "id": "external-iceland",
   "metadata": {},
   "outputs": [],
   "source": [
    "from keras.preprocessing.sequence import pad_sequences\n",
    "from keras.preprocessing.text import Tokenizer"
   ]
  },
  {
   "cell_type": "code",
   "execution_count": 99,
   "id": "following-reform",
   "metadata": {},
   "outputs": [],
   "source": [
    "tokenizer = Tokenizer(filters=[])\n",
    "tokenizer.fit_on_texts(vocab)"
   ]
  },
  {
   "cell_type": "code",
   "execution_count": 100,
   "id": "intense-alcohol",
   "metadata": {},
   "outputs": [
    {
     "data": {
      "text/plain": [
       "{'travelled': 1,\n",
       " 'to': 2,\n",
       " 'daniel': 3,\n",
       " 'in': 4,\n",
       " 'yes': 5,\n",
       " 'apple': 6,\n",
       " 'john': 7,\n",
       " 'garden': 8,\n",
       " 'kitchen': 9,\n",
       " 'sandra': 10,\n",
       " 'got': 11,\n",
       " 'the': 12,\n",
       " 'there': 13,\n",
       " '?': 14,\n",
       " 'bathroom': 15,\n",
       " 'journeyed': 16,\n",
       " 'discarded': 17,\n",
       " 'back': 18,\n",
       " 'mary': 19,\n",
       " 'office': 20,\n",
       " 'picked': 21,\n",
       " 'milk': 22,\n",
       " 'hallway': 23,\n",
       " 'took': 24,\n",
       " 'grabbed': 25,\n",
       " 'went': 26,\n",
       " 'left': 27,\n",
       " 'no': 28,\n",
       " 'up': 29,\n",
       " 'dropped': 30,\n",
       " 'moved': 31,\n",
       " 'football': 32,\n",
       " '.': 33,\n",
       " 'bedroom': 34,\n",
       " 'put': 35,\n",
       " 'is': 36,\n",
       " 'down': 37}"
      ]
     },
     "execution_count": 100,
     "metadata": {},
     "output_type": "execute_result"
    }
   ],
   "source": [
    "tokenizer.word_index"
   ]
  },
  {
   "cell_type": "code",
   "execution_count": 101,
   "id": "casual-editing",
   "metadata": {},
   "outputs": [],
   "source": [
    "train_story_text = []\n",
    "train_question_text = []\n",
    "train_answers = []\n",
    "\n",
    "for story,question,answer in train_data:\n",
    "    train_story_text.append(story)\n",
    "    train_question_text.append(question)"
   ]
  },
  {
   "cell_type": "code",
   "execution_count": 102,
   "id": "elementary-judgment",
   "metadata": {},
   "outputs": [],
   "source": [
    "train_story_seq = tokenizer.texts_to_sequences(train_story_text)"
   ]
  },
  {
   "cell_type": "code",
   "execution_count": 103,
   "id": "daily-incentive",
   "metadata": {},
   "outputs": [
    {
     "data": {
      "text/plain": [
       "10000"
      ]
     },
     "execution_count": 103,
     "metadata": {},
     "output_type": "execute_result"
    }
   ],
   "source": [
    "len(train_story_text)"
   ]
  },
  {
   "cell_type": "code",
   "execution_count": 104,
   "id": "beautiful-involvement",
   "metadata": {},
   "outputs": [
    {
     "data": {
      "text/plain": [
       "10000"
      ]
     },
     "execution_count": 104,
     "metadata": {},
     "output_type": "execute_result"
    }
   ],
   "source": [
    "len(train_story_seq)"
   ]
  },
  {
   "cell_type": "markdown",
   "id": "official-commonwealth",
   "metadata": {},
   "source": [
    "# Functionalize Vectorization"
   ]
  },
  {
   "cell_type": "code",
   "execution_count": 105,
   "id": "careful-wrist",
   "metadata": {},
   "outputs": [],
   "source": [
    "def vectorize_stories(data, word_index=tokenizer.word_index, max_story_len=max_story_len,max_question_len=max_question_len):\n",
    "       \n",
    "    \n",
    "    # X = STORIES\n",
    "    X = []\n",
    "    # Xq = QUERY/QUESTION\n",
    "    Xq = []\n",
    "    # Y = CORRECT ANSWER\n",
    "    Y = []\n",
    "    \n",
    "    \n",
    "    for story, query, answer in data:\n",
    "        \n",
    "        x = [word_index[word.lower()] for word in story]\n",
    "        xq = [word_index[word.lower()] for word in query]\n",
    "        \n",
    "        y = np.zeros(len(word_index) + 1)\n",
    "        \n",
    "        y[word_index[answer]] = 1\n",
    "        \n",
    "        X.append(x)\n",
    "        Xq.append(xq)\n",
    "        Y.append(y)\n",
    "        \n",
    "    return (pad_sequences(X, maxlen=max_story_len),pad_sequences(Xq, maxlen=max_question_len), np.array(Y))"
   ]
  },
  {
   "cell_type": "code",
   "execution_count": 106,
   "id": "hidden-storm",
   "metadata": {},
   "outputs": [],
   "source": [
    "inputs_train, queries_train, answers_train = vectorize_stories(train_data)"
   ]
  },
  {
   "cell_type": "code",
   "execution_count": 107,
   "id": "extreme-navigator",
   "metadata": {},
   "outputs": [],
   "source": [
    "inputs_test, queries_test, answers_test = vectorize_stories(test_data)"
   ]
  },
  {
   "cell_type": "code",
   "execution_count": 108,
   "id": "separated-occasion",
   "metadata": {},
   "outputs": [
    {
     "data": {
      "text/plain": [
       "array([[ 0,  0,  0, ..., 12, 34, 33],\n",
       "       [ 0,  0,  0, ..., 12,  8, 33],\n",
       "       [ 0,  0,  0, ..., 12,  8, 33],\n",
       "       ...,\n",
       "       [ 0,  0,  0, ..., 12,  6, 33],\n",
       "       [ 0,  0,  0, ..., 12,  8, 33],\n",
       "       [ 0,  0,  0, ...,  6, 13, 33]])"
      ]
     },
     "execution_count": 108,
     "metadata": {},
     "output_type": "execute_result"
    }
   ],
   "source": [
    "inputs_test"
   ]
  },
  {
   "cell_type": "code",
   "execution_count": 109,
   "id": "aware-range",
   "metadata": {},
   "outputs": [
    {
     "data": {
      "text/plain": [
       "array([[36,  7,  4, 12,  9, 14],\n",
       "       [36,  7,  4, 12,  9, 14],\n",
       "       [36,  7,  4, 12,  8, 14],\n",
       "       ...,\n",
       "       [36, 19,  4, 12, 34, 14],\n",
       "       [36, 10,  4, 12,  8, 14],\n",
       "       [36, 19,  4, 12,  8, 14]])"
      ]
     },
     "execution_count": 109,
     "metadata": {},
     "output_type": "execute_result"
    }
   ],
   "source": [
    "queries_test"
   ]
  },
  {
   "cell_type": "code",
   "execution_count": 110,
   "id": "generous-canyon",
   "metadata": {},
   "outputs": [
    {
     "data": {
      "text/plain": [
       "array([[0., 0., 0., ..., 0., 0., 0.],\n",
       "       [0., 0., 0., ..., 0., 0., 0.],\n",
       "       [0., 0., 0., ..., 0., 0., 0.],\n",
       "       ...,\n",
       "       [0., 0., 0., ..., 0., 0., 0.],\n",
       "       [0., 0., 0., ..., 0., 0., 0.],\n",
       "       [0., 0., 0., ..., 0., 0., 0.]])"
      ]
     },
     "execution_count": 110,
     "metadata": {},
     "output_type": "execute_result"
    }
   ],
   "source": [
    "answers_test"
   ]
  },
  {
   "cell_type": "code",
   "execution_count": 111,
   "id": "advised-planning",
   "metadata": {},
   "outputs": [
    {
     "data": {
      "text/plain": [
       "array([  0.,   0.,   0.,   0.,   0., 497.,   0.,   0.,   0.,   0.,   0.,\n",
       "         0.,   0.,   0.,   0.,   0.,   0.,   0.,   0.,   0.,   0.,   0.,\n",
       "         0.,   0.,   0.,   0.,   0.,   0., 503.,   0.,   0.,   0.,   0.,\n",
       "         0.,   0.,   0.,   0.,   0.])"
      ]
     },
     "execution_count": 111,
     "metadata": {},
     "output_type": "execute_result"
    }
   ],
   "source": [
    "sum(answers_test)"
   ]
  },
  {
   "cell_type": "code",
   "execution_count": 112,
   "id": "continuous-contamination",
   "metadata": {},
   "outputs": [
    {
     "data": {
      "text/plain": [
       "5"
      ]
     },
     "execution_count": 112,
     "metadata": {},
     "output_type": "execute_result"
    }
   ],
   "source": [
    "tokenizer.word_index['yes']"
   ]
  },
  {
   "cell_type": "code",
   "execution_count": 113,
   "id": "speaking-providence",
   "metadata": {},
   "outputs": [
    {
     "data": {
      "text/plain": [
       "28"
      ]
     },
     "execution_count": 113,
     "metadata": {},
     "output_type": "execute_result"
    }
   ],
   "source": [
    "tokenizer.word_index['no']"
   ]
  },
  {
   "cell_type": "markdown",
   "id": "trying-channel",
   "metadata": {},
   "source": [
    "# Model"
   ]
  },
  {
   "cell_type": "code",
   "execution_count": 114,
   "id": "individual-award",
   "metadata": {},
   "outputs": [],
   "source": [
    "from keras.models import Sequential, Model\n",
    "from keras.layers.embeddings import Embedding\n",
    "from keras.layers import Input, Activation, Dense, Permute, Dropout\n",
    "from keras.layers import add, dot, concatenate\n",
    "from keras.layers import LSTM"
   ]
  },
  {
   "cell_type": "code",
   "execution_count": 115,
   "id": "accompanied-royalty",
   "metadata": {},
   "outputs": [],
   "source": [
    "input_sequence = Input((max_story_len,))\n",
    "question = Input((max_question_len,))"
   ]
  },
  {
   "cell_type": "code",
   "execution_count": 116,
   "id": "surprised-somerset",
   "metadata": {},
   "outputs": [],
   "source": [
    "input_encoder_m = Sequential()\n",
    "input_encoder_m.add(Embedding(input_dim=vocab_size,output_dim=64))\n",
    "input_encoder_m.add(Dropout(0.3))"
   ]
  },
  {
   "cell_type": "code",
   "execution_count": 117,
   "id": "collected-lindsay",
   "metadata": {},
   "outputs": [],
   "source": [
    "input_encoder_c = Sequential()\n",
    "input_encoder_c.add(Embedding(input_dim=vocab_size,output_dim=max_question_len))\n",
    "input_encoder_c.add(Dropout(0.3))"
   ]
  },
  {
   "cell_type": "code",
   "execution_count": 118,
   "id": "established-classics",
   "metadata": {},
   "outputs": [],
   "source": [
    "question_encoder = Sequential()\n",
    "question_encoder.add(Embedding(input_dim=vocab_size,\n",
    "                               output_dim=64,\n",
    "                               input_length=max_question_len))\n",
    "question_encoder.add(Dropout(0.3))"
   ]
  },
  {
   "cell_type": "code",
   "execution_count": 119,
   "id": "infectious-poster",
   "metadata": {},
   "outputs": [],
   "source": [
    "input_encoded_m = input_encoder_m(input_sequence)\n",
    "input_encoded_c = input_encoder_c(input_sequence)\n",
    "question_encoded = question_encoder(question)"
   ]
  },
  {
   "cell_type": "code",
   "execution_count": 120,
   "id": "better-cement",
   "metadata": {},
   "outputs": [],
   "source": [
    "match = dot([input_encoded_m, question_encoded], axes=(2, 2))\n",
    "match = Activation('softmax')(match)"
   ]
  },
  {
   "cell_type": "code",
   "execution_count": 121,
   "id": "promotional-benjamin",
   "metadata": {},
   "outputs": [],
   "source": [
    "response = add([match, input_encoded_c]) \n",
    "response = Permute((2, 1))(response) "
   ]
  },
  {
   "cell_type": "code",
   "execution_count": 122,
   "id": "expensive-aggregate",
   "metadata": {},
   "outputs": [],
   "source": [
    "answer = concatenate([response, question_encoded])"
   ]
  },
  {
   "cell_type": "code",
   "execution_count": 123,
   "id": "knowing-sunday",
   "metadata": {},
   "outputs": [
    {
     "data": {
      "text/plain": [
       "<tf.Tensor 'concatenate_1/Identity:0' shape=(None, 6, 220) dtype=float32>"
      ]
     },
     "execution_count": 123,
     "metadata": {},
     "output_type": "execute_result"
    }
   ],
   "source": [
    "answer"
   ]
  },
  {
   "cell_type": "code",
   "execution_count": 124,
   "id": "intensive-credit",
   "metadata": {},
   "outputs": [],
   "source": [
    "answer = LSTM(32)(answer)"
   ]
  },
  {
   "cell_type": "code",
   "execution_count": 125,
   "id": "sustainable-workshop",
   "metadata": {},
   "outputs": [],
   "source": [
    "answer = Dropout(0.5)(answer)\n",
    "answer = Dense(vocab_size)(answer) "
   ]
  },
  {
   "cell_type": "code",
   "execution_count": 126,
   "id": "south-gateway",
   "metadata": {},
   "outputs": [],
   "source": [
    "answer = Activation('softmax')(answer)\n",
    "\n",
    "# build the final model\n",
    "model = Model([input_sequence, question], answer)\n",
    "model.compile(optimizer='rmsprop', loss='categorical_crossentropy',\n",
    "              metrics=['accuracy'])"
   ]
  },
  {
   "cell_type": "code",
   "execution_count": 127,
   "id": "pointed-drinking",
   "metadata": {},
   "outputs": [
    {
     "name": "stdout",
     "output_type": "stream",
     "text": [
      "Model: \"model_1\"\n",
      "__________________________________________________________________________________________________\n",
      "Layer (type)                    Output Shape         Param #     Connected to                     \n",
      "==================================================================================================\n",
      "input_3 (InputLayer)            [(None, 156)]        0                                            \n",
      "__________________________________________________________________________________________________\n",
      "input_4 (InputLayer)            [(None, 6)]          0                                            \n",
      "__________________________________________________________________________________________________\n",
      "sequential_3 (Sequential)       multiple             2432        input_3[0][0]                    \n",
      "__________________________________________________________________________________________________\n",
      "sequential_5 (Sequential)       (None, 6, 64)        2432        input_4[0][0]                    \n",
      "__________________________________________________________________________________________________\n",
      "dot_1 (Dot)                     (None, 156, 6)       0           sequential_3[1][0]               \n",
      "                                                                 sequential_5[1][0]               \n",
      "__________________________________________________________________________________________________\n",
      "activation_2 (Activation)       (None, 156, 6)       0           dot_1[0][0]                      \n",
      "__________________________________________________________________________________________________\n",
      "sequential_4 (Sequential)       multiple             228         input_3[0][0]                    \n",
      "__________________________________________________________________________________________________\n",
      "add_1 (Add)                     (None, 156, 6)       0           activation_2[0][0]               \n",
      "                                                                 sequential_4[1][0]               \n",
      "__________________________________________________________________________________________________\n",
      "permute_1 (Permute)             (None, 6, 156)       0           add_1[0][0]                      \n",
      "__________________________________________________________________________________________________\n",
      "concatenate_1 (Concatenate)     (None, 6, 220)       0           permute_1[0][0]                  \n",
      "                                                                 sequential_5[1][0]               \n",
      "__________________________________________________________________________________________________\n",
      "lstm_1 (LSTM)                   (None, 32)           32384       concatenate_1[0][0]              \n",
      "__________________________________________________________________________________________________\n",
      "dropout_7 (Dropout)             (None, 32)           0           lstm_1[0][0]                     \n",
      "__________________________________________________________________________________________________\n",
      "dense_1 (Dense)                 (None, 38)           1254        dropout_7[0][0]                  \n",
      "__________________________________________________________________________________________________\n",
      "activation_3 (Activation)       (None, 38)           0           dense_1[0][0]                    \n",
      "==================================================================================================\n",
      "Total params: 38,730\n",
      "Trainable params: 38,730\n",
      "Non-trainable params: 0\n",
      "__________________________________________________________________________________________________\n"
     ]
    }
   ],
   "source": [
    "model.summary()"
   ]
  },
  {
   "cell_type": "code",
   "execution_count": 128,
   "id": "corrected-sister",
   "metadata": {},
   "outputs": [
    {
     "name": "stdout",
     "output_type": "stream",
     "text": [
      "Epoch 1/120\n",
      "313/313 [==============================] - 5s 16ms/step - loss: 0.8968 - accuracy: 0.4859 - val_loss: 0.6952 - val_accuracy: 0.4970\n",
      "Epoch 2/120\n",
      "313/313 [==============================] - 4s 11ms/step - loss: 0.7016 - accuracy: 0.5056 - val_loss: 0.6934 - val_accuracy: 0.4970\n",
      "Epoch 3/120\n",
      "313/313 [==============================] - 4s 12ms/step - loss: 0.6959 - accuracy: 0.4960 - val_loss: 0.6932 - val_accuracy: 0.5030\n",
      "Epoch 4/120\n",
      "313/313 [==============================] - 4s 12ms/step - loss: 0.6948 - accuracy: 0.5014 - val_loss: 0.6931 - val_accuracy: 0.5030\n",
      "Epoch 5/120\n",
      "313/313 [==============================] - 4s 12ms/step - loss: 0.6944 - accuracy: 0.5019 - val_loss: 0.6932 - val_accuracy: 0.4970\n",
      "Epoch 6/120\n",
      "313/313 [==============================] - 4s 11ms/step - loss: 0.6948 - accuracy: 0.4988 - val_loss: 0.6935 - val_accuracy: 0.5030\n",
      "Epoch 7/120\n",
      "313/313 [==============================] - 4s 12ms/step - loss: 0.6946 - accuracy: 0.4877 - val_loss: 0.6933 - val_accuracy: 0.4970\n",
      "Epoch 8/120\n",
      "313/313 [==============================] - 4s 12ms/step - loss: 0.6947 - accuracy: 0.4984 - val_loss: 0.6935 - val_accuracy: 0.4970\n",
      "Epoch 9/120\n",
      "313/313 [==============================] - 4s 12ms/step - loss: 0.6939 - accuracy: 0.5008 - val_loss: 0.6944 - val_accuracy: 0.4730\n",
      "Epoch 10/120\n",
      "313/313 [==============================] - 4s 11ms/step - loss: 0.6941 - accuracy: 0.5073 - val_loss: 0.6941 - val_accuracy: 0.4790\n",
      "Epoch 11/120\n",
      "313/313 [==============================] - 4s 12ms/step - loss: 0.6934 - accuracy: 0.5062 - val_loss: 0.6948 - val_accuracy: 0.5010\n",
      "Epoch 12/120\n",
      "313/313 [==============================] - 4s 13ms/step - loss: 0.6910 - accuracy: 0.5305 - val_loss: 0.6916 - val_accuracy: 0.5190\n",
      "Epoch 13/120\n",
      "313/313 [==============================] - 4s 12ms/step - loss: 0.6556 - accuracy: 0.6154 - val_loss: 0.5992 - val_accuracy: 0.7050\n",
      "Epoch 14/120\n",
      "313/313 [==============================] - 4s 12ms/step - loss: 0.5311 - accuracy: 0.7566 - val_loss: 0.4664 - val_accuracy: 0.7840\n",
      "Epoch 15/120\n",
      "313/313 [==============================] - 4s 12ms/step - loss: 0.4503 - accuracy: 0.8042 - val_loss: 0.4279 - val_accuracy: 0.8310\n",
      "Epoch 16/120\n",
      "313/313 [==============================] - 4s 12ms/step - loss: 0.4169 - accuracy: 0.8285 - val_loss: 0.4134 - val_accuracy: 0.8170\n",
      "Epoch 17/120\n",
      "313/313 [==============================] - 4s 12ms/step - loss: 0.3958 - accuracy: 0.8394 - val_loss: 0.3994 - val_accuracy: 0.8290\n",
      "Epoch 18/120\n",
      "313/313 [==============================] - 4s 12ms/step - loss: 0.3760 - accuracy: 0.8441 - val_loss: 0.3992 - val_accuracy: 0.8340\n",
      "Epoch 19/120\n",
      "313/313 [==============================] - 4s 12ms/step - loss: 0.3676 - accuracy: 0.8484 - val_loss: 0.3926 - val_accuracy: 0.8400\n",
      "Epoch 20/120\n",
      "313/313 [==============================] - 4s 12ms/step - loss: 0.3564 - accuracy: 0.8529 - val_loss: 0.3889 - val_accuracy: 0.8250\n",
      "Epoch 21/120\n",
      "313/313 [==============================] - 4s 12ms/step - loss: 0.3500 - accuracy: 0.8529 - val_loss: 0.3759 - val_accuracy: 0.8290\n",
      "Epoch 22/120\n",
      "313/313 [==============================] - 4s 12ms/step - loss: 0.3402 - accuracy: 0.8573 - val_loss: 0.3604 - val_accuracy: 0.8400\n",
      "Epoch 23/120\n",
      "313/313 [==============================] - 4s 12ms/step - loss: 0.3351 - accuracy: 0.8579 - val_loss: 0.3593 - val_accuracy: 0.8380\n",
      "Epoch 24/120\n",
      "313/313 [==============================] - 4s 12ms/step - loss: 0.3284 - accuracy: 0.8604 - val_loss: 0.3555 - val_accuracy: 0.8310\n",
      "Epoch 25/120\n",
      "313/313 [==============================] - 4s 12ms/step - loss: 0.3233 - accuracy: 0.8615 - val_loss: 0.3585 - val_accuracy: 0.8370\n",
      "Epoch 26/120\n",
      "313/313 [==============================] - 4s 12ms/step - loss: 0.3208 - accuracy: 0.8594 - val_loss: 0.3575 - val_accuracy: 0.8270\n",
      "Epoch 27/120\n",
      "313/313 [==============================] - 4s 12ms/step - loss: 0.3125 - accuracy: 0.8647 - val_loss: 0.3515 - val_accuracy: 0.8400\n",
      "Epoch 28/120\n",
      "313/313 [==============================] - 4s 12ms/step - loss: 0.3084 - accuracy: 0.8642 - val_loss: 0.3585 - val_accuracy: 0.8360\n",
      "Epoch 29/120\n",
      "313/313 [==============================] - 4s 12ms/step - loss: 0.3121 - accuracy: 0.8639 - val_loss: 0.3485 - val_accuracy: 0.8230\n",
      "Epoch 30/120\n",
      "313/313 [==============================] - 4s 12ms/step - loss: 0.3091 - accuracy: 0.8652 - val_loss: 0.3444 - val_accuracy: 0.8420\n",
      "Epoch 31/120\n",
      "313/313 [==============================] - 4s 12ms/step - loss: 0.3041 - accuracy: 0.8666 - val_loss: 0.3444 - val_accuracy: 0.8410\n",
      "Epoch 32/120\n",
      "313/313 [==============================] - 4s 12ms/step - loss: 0.3015 - accuracy: 0.8682 - val_loss: 0.3435 - val_accuracy: 0.8410\n",
      "Epoch 33/120\n",
      "313/313 [==============================] - 4s 12ms/step - loss: 0.2996 - accuracy: 0.8673 - val_loss: 0.3716 - val_accuracy: 0.8200\n",
      "Epoch 34/120\n",
      "313/313 [==============================] - 4s 12ms/step - loss: 0.2988 - accuracy: 0.8665 - val_loss: 0.3573 - val_accuracy: 0.8340\n",
      "Epoch 35/120\n",
      "313/313 [==============================] - 4s 12ms/step - loss: 0.2966 - accuracy: 0.8661 - val_loss: 0.3459 - val_accuracy: 0.8410\n",
      "Epoch 36/120\n",
      "313/313 [==============================] - 4s 12ms/step - loss: 0.2940 - accuracy: 0.8692 - val_loss: 0.3528 - val_accuracy: 0.8430\n",
      "Epoch 37/120\n",
      "313/313 [==============================] - 4s 12ms/step - loss: 0.2890 - accuracy: 0.8737 - val_loss: 0.3493 - val_accuracy: 0.8340\n",
      "Epoch 38/120\n",
      "313/313 [==============================] - 4s 12ms/step - loss: 0.2929 - accuracy: 0.8716 - val_loss: 0.3533 - val_accuracy: 0.8380\n",
      "Epoch 39/120\n",
      "313/313 [==============================] - 4s 13ms/step - loss: 0.2917 - accuracy: 0.8695 - val_loss: 0.3526 - val_accuracy: 0.8370\n",
      "Epoch 40/120\n",
      "313/313 [==============================] - 4s 12ms/step - loss: 0.2901 - accuracy: 0.8737 - val_loss: 0.3552 - val_accuracy: 0.8360\n",
      "Epoch 41/120\n",
      "313/313 [==============================] - 4s 12ms/step - loss: 0.2823 - accuracy: 0.8749 - val_loss: 0.3759 - val_accuracy: 0.8340\n",
      "Epoch 42/120\n",
      "313/313 [==============================] - 4s 12ms/step - loss: 0.2893 - accuracy: 0.8728 - val_loss: 0.3558 - val_accuracy: 0.8360\n",
      "Epoch 43/120\n",
      "313/313 [==============================] - 4s 12ms/step - loss: 0.2858 - accuracy: 0.8736 - val_loss: 0.3903 - val_accuracy: 0.8340\n",
      "Epoch 44/120\n",
      "313/313 [==============================] - 4s 12ms/step - loss: 0.2849 - accuracy: 0.8741 - val_loss: 0.3809 - val_accuracy: 0.8260\n",
      "Epoch 45/120\n",
      "313/313 [==============================] - 4s 12ms/step - loss: 0.2843 - accuracy: 0.8760 - val_loss: 0.3626 - val_accuracy: 0.8370\n",
      "Epoch 46/120\n",
      "313/313 [==============================] - 4s 12ms/step - loss: 0.2878 - accuracy: 0.8747 - val_loss: 0.3606 - val_accuracy: 0.8410\n",
      "Epoch 47/120\n",
      "313/313 [==============================] - 4s 12ms/step - loss: 0.2832 - accuracy: 0.8731 - val_loss: 0.3660 - val_accuracy: 0.8350\n",
      "Epoch 48/120\n",
      "313/313 [==============================] - 4s 12ms/step - loss: 0.2811 - accuracy: 0.8744 - val_loss: 0.3869 - val_accuracy: 0.8330\n",
      "Epoch 49/120\n",
      "313/313 [==============================] - 4s 12ms/step - loss: 0.2803 - accuracy: 0.8746 - val_loss: 0.3663 - val_accuracy: 0.8300\n",
      "Epoch 50/120\n",
      "313/313 [==============================] - 4s 12ms/step - loss: 0.2750 - accuracy: 0.8784 - val_loss: 0.3668 - val_accuracy: 0.8410\n",
      "Epoch 51/120\n",
      "313/313 [==============================] - 4s 12ms/step - loss: 0.2789 - accuracy: 0.8767 - val_loss: 0.3632 - val_accuracy: 0.8340\n",
      "Epoch 52/120\n",
      "313/313 [==============================] - 4s 12ms/step - loss: 0.2756 - accuracy: 0.8810 - val_loss: 0.3821 - val_accuracy: 0.8340\n",
      "Epoch 53/120\n",
      "313/313 [==============================] - 4s 12ms/step - loss: 0.2789 - accuracy: 0.8794 - val_loss: 0.3645 - val_accuracy: 0.8390\n",
      "Epoch 54/120\n",
      "313/313 [==============================] - 4s 12ms/step - loss: 0.2743 - accuracy: 0.8792 - val_loss: 0.4105 - val_accuracy: 0.8240\n",
      "Epoch 55/120\n",
      "313/313 [==============================] - 4s 12ms/step - loss: 0.2692 - accuracy: 0.8820 - val_loss: 0.3840 - val_accuracy: 0.8330\n",
      "Epoch 56/120\n",
      "313/313 [==============================] - 4s 12ms/step - loss: 0.2699 - accuracy: 0.8808 - val_loss: 0.4225 - val_accuracy: 0.8380\n",
      "Epoch 57/120\n"
     ]
    },
    {
     "name": "stdout",
     "output_type": "stream",
     "text": [
      "313/313 [==============================] - 4s 12ms/step - loss: 0.2685 - accuracy: 0.8848 - val_loss: 0.4265 - val_accuracy: 0.8440\n",
      "Epoch 58/120\n",
      "313/313 [==============================] - 4s 13ms/step - loss: 0.2706 - accuracy: 0.8834 - val_loss: 0.3793 - val_accuracy: 0.8410\n",
      "Epoch 59/120\n",
      "313/313 [==============================] - 4s 13ms/step - loss: 0.2697 - accuracy: 0.8837 - val_loss: 0.3991 - val_accuracy: 0.8370\n",
      "Epoch 60/120\n",
      "313/313 [==============================] - 4s 12ms/step - loss: 0.2655 - accuracy: 0.8824 - val_loss: 0.3975 - val_accuracy: 0.8420\n",
      "Epoch 61/120\n",
      "313/313 [==============================] - 4s 12ms/step - loss: 0.2693 - accuracy: 0.8826 - val_loss: 0.3956 - val_accuracy: 0.8350\n",
      "Epoch 62/120\n",
      "313/313 [==============================] - 4s 12ms/step - loss: 0.2649 - accuracy: 0.8848 - val_loss: 0.3954 - val_accuracy: 0.8400\n",
      "Epoch 63/120\n",
      "313/313 [==============================] - 4s 12ms/step - loss: 0.2621 - accuracy: 0.8869 - val_loss: 0.4484 - val_accuracy: 0.8260\n",
      "Epoch 64/120\n",
      "313/313 [==============================] - 4s 12ms/step - loss: 0.2675 - accuracy: 0.8827 - val_loss: 0.3836 - val_accuracy: 0.8340\n",
      "Epoch 65/120\n",
      "313/313 [==============================] - 4s 12ms/step - loss: 0.2557 - accuracy: 0.8867 - val_loss: 0.4568 - val_accuracy: 0.8400\n",
      "Epoch 66/120\n",
      "313/313 [==============================] - 4s 12ms/step - loss: 0.2575 - accuracy: 0.8903 - val_loss: 0.4331 - val_accuracy: 0.8380\n",
      "Epoch 67/120\n",
      "313/313 [==============================] - 4s 13ms/step - loss: 0.2605 - accuracy: 0.8842 - val_loss: 0.4045 - val_accuracy: 0.8360\n",
      "Epoch 68/120\n",
      "313/313 [==============================] - 4s 12ms/step - loss: 0.2575 - accuracy: 0.8873 - val_loss: 0.4631 - val_accuracy: 0.8310\n",
      "Epoch 69/120\n",
      "313/313 [==============================] - 4s 12ms/step - loss: 0.2565 - accuracy: 0.8901 - val_loss: 0.4362 - val_accuracy: 0.8300\n",
      "Epoch 70/120\n",
      "313/313 [==============================] - 4s 12ms/step - loss: 0.2539 - accuracy: 0.8883 - val_loss: 0.4480 - val_accuracy: 0.8370\n",
      "Epoch 71/120\n",
      "313/313 [==============================] - 4s 12ms/step - loss: 0.2477 - accuracy: 0.8940 - val_loss: 0.4620 - val_accuracy: 0.8390\n",
      "Epoch 72/120\n",
      "313/313 [==============================] - 4s 12ms/step - loss: 0.2540 - accuracy: 0.8923 - val_loss: 0.4464 - val_accuracy: 0.8340\n",
      "Epoch 73/120\n",
      "313/313 [==============================] - 4s 12ms/step - loss: 0.2518 - accuracy: 0.8906 - val_loss: 0.4337 - val_accuracy: 0.8360\n",
      "Epoch 74/120\n",
      "313/313 [==============================] - 4s 12ms/step - loss: 0.2509 - accuracy: 0.8925 - val_loss: 0.4452 - val_accuracy: 0.8380\n",
      "Epoch 75/120\n",
      "313/313 [==============================] - 4s 12ms/step - loss: 0.2482 - accuracy: 0.8905 - val_loss: 0.4553 - val_accuracy: 0.8380\n",
      "Epoch 76/120\n",
      "313/313 [==============================] - 4s 12ms/step - loss: 0.2466 - accuracy: 0.8917 - val_loss: 0.5138 - val_accuracy: 0.8240\n",
      "Epoch 77/120\n",
      "313/313 [==============================] - 4s 13ms/step - loss: 0.2445 - accuracy: 0.8949 - val_loss: 0.5188 - val_accuracy: 0.8250\n",
      "Epoch 78/120\n",
      "313/313 [==============================] - 4s 12ms/step - loss: 0.2467 - accuracy: 0.8965 - val_loss: 0.4264 - val_accuracy: 0.8420\n",
      "Epoch 79/120\n",
      "313/313 [==============================] - 4s 12ms/step - loss: 0.2418 - accuracy: 0.8947 - val_loss: 0.4419 - val_accuracy: 0.8290\n",
      "Epoch 80/120\n",
      "313/313 [==============================] - 4s 12ms/step - loss: 0.2449 - accuracy: 0.8940 - val_loss: 0.4320 - val_accuracy: 0.8380\n",
      "Epoch 81/120\n",
      "313/313 [==============================] - 4s 12ms/step - loss: 0.2387 - accuracy: 0.8978 - val_loss: 0.4461 - val_accuracy: 0.8420\n",
      "Epoch 82/120\n",
      "313/313 [==============================] - 4s 12ms/step - loss: 0.2383 - accuracy: 0.8976 - val_loss: 0.4691 - val_accuracy: 0.8310\n",
      "Epoch 83/120\n",
      "313/313 [==============================] - 4s 12ms/step - loss: 0.2395 - accuracy: 0.9006 - val_loss: 0.4468 - val_accuracy: 0.8410\n",
      "Epoch 84/120\n",
      "313/313 [==============================] - 4s 12ms/step - loss: 0.2381 - accuracy: 0.8998 - val_loss: 0.4804 - val_accuracy: 0.8340\n",
      "Epoch 85/120\n",
      "313/313 [==============================] - 4s 12ms/step - loss: 0.2384 - accuracy: 0.8965 - val_loss: 0.4566 - val_accuracy: 0.8300\n",
      "Epoch 86/120\n",
      "313/313 [==============================] - 4s 12ms/step - loss: 0.2369 - accuracy: 0.8983 - val_loss: 0.4678 - val_accuracy: 0.8330\n",
      "Epoch 87/120\n",
      "313/313 [==============================] - 4s 12ms/step - loss: 0.2365 - accuracy: 0.8970 - val_loss: 0.5339 - val_accuracy: 0.8280\n",
      "Epoch 88/120\n",
      "313/313 [==============================] - 4s 13ms/step - loss: 0.2337 - accuracy: 0.9034 - val_loss: 0.5081 - val_accuracy: 0.8330\n",
      "Epoch 89/120\n",
      "313/313 [==============================] - 4s 12ms/step - loss: 0.2305 - accuracy: 0.9031 - val_loss: 0.5015 - val_accuracy: 0.8340\n",
      "Epoch 90/120\n",
      "313/313 [==============================] - 4s 12ms/step - loss: 0.2318 - accuracy: 0.9013 - val_loss: 0.4894 - val_accuracy: 0.8340\n",
      "Epoch 91/120\n",
      "313/313 [==============================] - 4s 12ms/step - loss: 0.2296 - accuracy: 0.9026 - val_loss: 0.4940 - val_accuracy: 0.8410\n",
      "Epoch 92/120\n",
      "313/313 [==============================] - 4s 12ms/step - loss: 0.2299 - accuracy: 0.9028 - val_loss: 0.4818 - val_accuracy: 0.8420\n",
      "Epoch 93/120\n",
      "313/313 [==============================] - 4s 12ms/step - loss: 0.2329 - accuracy: 0.9036 - val_loss: 0.4590 - val_accuracy: 0.8400\n",
      "Epoch 94/120\n",
      "313/313 [==============================] - 4s 13ms/step - loss: 0.2276 - accuracy: 0.9031 - val_loss: 0.4510 - val_accuracy: 0.8370\n",
      "Epoch 95/120\n",
      "313/313 [==============================] - 4s 13ms/step - loss: 0.2234 - accuracy: 0.9053 - val_loss: 0.5183 - val_accuracy: 0.8300\n",
      "Epoch 96/120\n",
      "313/313 [==============================] - 4s 13ms/step - loss: 0.2169 - accuracy: 0.9073 - val_loss: 0.5019 - val_accuracy: 0.8320\n",
      "Epoch 97/120\n",
      "313/313 [==============================] - 4s 13ms/step - loss: 0.2201 - accuracy: 0.9080 - val_loss: 0.5034 - val_accuracy: 0.8350\n",
      "Epoch 98/120\n",
      "313/313 [==============================] - 4s 12ms/step - loss: 0.2214 - accuracy: 0.9069 - val_loss: 0.5497 - val_accuracy: 0.8300\n",
      "Epoch 99/120\n",
      "313/313 [==============================] - 4s 12ms/step - loss: 0.2181 - accuracy: 0.9066 - val_loss: 0.4821 - val_accuracy: 0.8340\n",
      "Epoch 100/120\n",
      "313/313 [==============================] - 4s 12ms/step - loss: 0.2193 - accuracy: 0.9104 - val_loss: 0.5191 - val_accuracy: 0.8350\n",
      "Epoch 101/120\n",
      "313/313 [==============================] - 4s 12ms/step - loss: 0.2192 - accuracy: 0.9076 - val_loss: 0.4829 - val_accuracy: 0.8300\n",
      "Epoch 102/120\n",
      "313/313 [==============================] - 4s 12ms/step - loss: 0.2149 - accuracy: 0.9083 - val_loss: 0.4873 - val_accuracy: 0.8340\n",
      "Epoch 103/120\n",
      "313/313 [==============================] - 4s 12ms/step - loss: 0.2223 - accuracy: 0.9062 - val_loss: 0.5185 - val_accuracy: 0.8320\n",
      "Epoch 104/120\n",
      "313/313 [==============================] - 4s 12ms/step - loss: 0.2155 - accuracy: 0.9084 - val_loss: 0.5298 - val_accuracy: 0.8310\n",
      "Epoch 105/120\n",
      "313/313 [==============================] - 4s 12ms/step - loss: 0.2201 - accuracy: 0.9057 - val_loss: 0.4855 - val_accuracy: 0.8360\n",
      "Epoch 106/120\n",
      "313/313 [==============================] - 4s 12ms/step - loss: 0.2159 - accuracy: 0.9096 - val_loss: 0.5298 - val_accuracy: 0.8310\n",
      "Epoch 107/120\n",
      "313/313 [==============================] - 4s 12ms/step - loss: 0.2155 - accuracy: 0.9110 - val_loss: 0.5291 - val_accuracy: 0.8310\n",
      "Epoch 108/120\n",
      "313/313 [==============================] - 4s 12ms/step - loss: 0.2159 - accuracy: 0.9122 - val_loss: 0.5485 - val_accuracy: 0.8280\n",
      "Epoch 109/120\n",
      "313/313 [==============================] - 3s 9ms/step - loss: 0.2133 - accuracy: 0.9116 - val_loss: 0.5484 - val_accuracy: 0.8370\n",
      "Epoch 110/120\n",
      "313/313 [==============================] - 3s 8ms/step - loss: 0.2085 - accuracy: 0.9136 - val_loss: 0.5567 - val_accuracy: 0.8250\n",
      "Epoch 111/120\n",
      "313/313 [==============================] - 3s 9ms/step - loss: 0.2037 - accuracy: 0.9144 - val_loss: 0.5418 - val_accuracy: 0.8310\n",
      "Epoch 112/120\n",
      "313/313 [==============================] - 3s 9ms/step - loss: 0.2064 - accuracy: 0.9139 - val_loss: 0.5537 - val_accuracy: 0.8320\n",
      "Epoch 113/120\n"
     ]
    },
    {
     "name": "stdout",
     "output_type": "stream",
     "text": [
      "313/313 [==============================] - 3s 9ms/step - loss: 0.2069 - accuracy: 0.9171 - val_loss: 0.5492 - val_accuracy: 0.8300\n",
      "Epoch 114/120\n",
      "313/313 [==============================] - 3s 8ms/step - loss: 0.2062 - accuracy: 0.9132 - val_loss: 0.5087 - val_accuracy: 0.8280\n",
      "Epoch 115/120\n",
      "313/313 [==============================] - 3s 9ms/step - loss: 0.2044 - accuracy: 0.9132 - val_loss: 0.5526 - val_accuracy: 0.8310\n",
      "Epoch 116/120\n",
      "313/313 [==============================] - 3s 9ms/step - loss: 0.1984 - accuracy: 0.9165 - val_loss: 0.5837 - val_accuracy: 0.8390\n",
      "Epoch 117/120\n",
      "313/313 [==============================] - 3s 8ms/step - loss: 0.2059 - accuracy: 0.9139 - val_loss: 0.5534 - val_accuracy: 0.8320\n",
      "Epoch 118/120\n",
      "313/313 [==============================] - 3s 9ms/step - loss: 0.2054 - accuracy: 0.9162 - val_loss: 0.5200 - val_accuracy: 0.8370\n",
      "Epoch 119/120\n",
      "313/313 [==============================] - 3s 8ms/step - loss: 0.2021 - accuracy: 0.9173 - val_loss: 0.5757 - val_accuracy: 0.8340\n",
      "Epoch 120/120\n",
      "313/313 [==============================] - 3s 9ms/step - loss: 0.1987 - accuracy: 0.9167 - val_loss: 0.5895 - val_accuracy: 0.8320\n"
     ]
    }
   ],
   "source": [
    "# train\n",
    "history = model.fit([inputs_train, queries_train], answers_train,batch_size=32,epochs=120,validation_data=\n",
    "                    ([inputs_test, queries_test], answers_test))"
   ]
  },
  {
   "cell_type": "code",
   "execution_count": 129,
   "id": "oriental-plant",
   "metadata": {},
   "outputs": [],
   "source": [
    "filename = 'chatbot_120_epochs.h5'\n",
    "model.save(filename)"
   ]
  },
  {
   "cell_type": "code",
   "execution_count": 130,
   "id": "hundred-combine",
   "metadata": {},
   "outputs": [
    {
     "name": "stdout",
     "output_type": "stream",
     "text": [
      "dict_keys(['loss', 'accuracy', 'val_loss', 'val_accuracy'])\n"
     ]
    },
    {
     "data": {
      "image/png": "[encoded data removed]",
      "text/plain": [
       "<Figure size 432x288 with 1 Axes>"
      ]
     },
     "metadata": {
      "needs_background": "light"
     },
     "output_type": "display_data"
    }
   ],
   "source": [
    "import matplotlib.pyplot as plt\n",
    "%matplotlib inline\n",
    "print(history.history.keys())\n",
    "# summarize history for accuracy\n",
    "plt.plot(history.history['accuracy'])\n",
    "plt.plot(history.history['val_accuracy'])\n",
    "plt.title('model accuracy')\n",
    "plt.ylabel('accuracy')\n",
    "plt.xlabel('epoch')\n",
    "plt.legend(['train', 'test'], loc='upper left')\n",
    "plt.show()"
   ]
  },
  {
   "cell_type": "code",
   "execution_count": 131,
   "id": "explicit-ranch",
   "metadata": {},
   "outputs": [],
   "source": [
    "model.load_weights(filename)\n",
    "pred_results = model.predict(([inputs_test, queries_test]))"
   ]
  },
  {
   "cell_type": "code",
   "execution_count": 132,
   "id": "elect-detector",
   "metadata": {},
   "outputs": [
    {
     "data": {
      "text/plain": [
       "['Mary',\n",
       " 'got',\n",
       " 'the',\n",
       " 'milk',\n",
       " 'there',\n",
       " '.',\n",
       " 'John',\n",
       " 'moved',\n",
       " 'to',\n",
       " 'the',\n",
       " 'bedroom',\n",
       " '.']"
      ]
     },
     "execution_count": 132,
     "metadata": {},
     "output_type": "execute_result"
    }
   ],
   "source": [
    "test_data[0][0]"
   ]
  },
  {
   "cell_type": "code",
   "execution_count": 133,
   "id": "arctic-range",
   "metadata": {},
   "outputs": [
    {
     "name": "stdout",
     "output_type": "stream",
     "text": [
      "Mary got the milk there . John moved to the bedroom .\n"
     ]
    }
   ],
   "source": [
    "story =' '.join(word for word in test_data[0][0])\n",
    "print(story)"
   ]
  },
  {
   "cell_type": "code",
   "execution_count": 134,
   "id": "labeled-western",
   "metadata": {},
   "outputs": [
    {
     "name": "stdout",
     "output_type": "stream",
     "text": [
      "Is John in the kitchen ?\n"
     ]
    }
   ],
   "source": [
    "query = ' '.join(word for word in test_data[0][1])\n",
    "print(query)"
   ]
  },
  {
   "cell_type": "code",
   "execution_count": 135,
   "id": "complex-bidding",
   "metadata": {},
   "outputs": [
    {
     "name": "stdout",
     "output_type": "stream",
     "text": [
      "True Test Answer from Data is: no\n"
     ]
    }
   ],
   "source": [
    "print(\"True Test Answer from Data is:\",test_data[0][2])"
   ]
  },
  {
   "cell_type": "code",
   "execution_count": 136,
   "id": "ceramic-director",
   "metadata": {},
   "outputs": [
    {
     "name": "stdout",
     "output_type": "stream",
     "text": [
      "Predicted answer is:  no\n",
      "Probability of certainty was:  0.9999993\n"
     ]
    }
   ],
   "source": [
    "val_max = np.argmax(pred_results[0])\n",
    "\n",
    "for key, val in tokenizer.word_index.items():\n",
    "    if val == val_max:\n",
    "        k = key\n",
    "\n",
    "print(\"Predicted answer is: \", k)\n",
    "print(\"Probability of certainty was: \", pred_results[0][val_max])"
   ]
  },
  {
   "cell_type": "code",
   "execution_count": 137,
   "id": "rural-serbia",
   "metadata": {},
   "outputs": [
    {
     "data": {
      "text/plain": [
       "{'.',\n",
       " '?',\n",
       " 'Daniel',\n",
       " 'Is',\n",
       " 'John',\n",
       " 'Mary',\n",
       " 'Sandra',\n",
       " 'apple',\n",
       " 'back',\n",
       " 'bathroom',\n",
       " 'bedroom',\n",
       " 'discarded',\n",
       " 'down',\n",
       " 'dropped',\n",
       " 'football',\n",
       " 'garden',\n",
       " 'got',\n",
       " 'grabbed',\n",
       " 'hallway',\n",
       " 'in',\n",
       " 'journeyed',\n",
       " 'kitchen',\n",
       " 'left',\n",
       " 'milk',\n",
       " 'moved',\n",
       " 'no',\n",
       " 'office',\n",
       " 'picked',\n",
       " 'put',\n",
       " 'the',\n",
       " 'there',\n",
       " 'to',\n",
       " 'took',\n",
       " 'travelled',\n",
       " 'up',\n",
       " 'went',\n",
       " 'yes'}"
      ]
     },
     "execution_count": 137,
     "metadata": {},
     "output_type": "execute_result"
    }
   ],
   "source": [
    "vocab"
   ]
  },
  {
   "cell_type": "code",
   "execution_count": 145,
   "id": "excellent-vertex",
   "metadata": {},
   "outputs": [],
   "source": [
    "my_question = \"Is the football in the garden ?\""
   ]
  },
  {
   "cell_type": "code",
   "execution_count": 146,
   "id": "global-closing",
   "metadata": {},
   "outputs": [
    {
     "data": {
      "text/plain": [
       "['Is', 'the', 'football', 'in', 'the', 'garden', '?']"
      ]
     },
     "execution_count": 146,
     "metadata": {},
     "output_type": "execute_result"
    }
   ],
   "source": [
    "my_question.split()"
   ]
  },
  {
   "cell_type": "code",
   "execution_count": 150,
   "id": "southern-bubble",
   "metadata": {},
   "outputs": [],
   "source": [
    "my_story = \"Is the football in the garden ?\""
   ]
  },
  {
   "cell_type": "code",
   "execution_count": 151,
   "id": "protected-powder",
   "metadata": {},
   "outputs": [
    {
     "data": {
      "text/plain": [
       "['Is', 'the', 'football', 'in', 'the', 'garden', '?']"
      ]
     },
     "execution_count": 151,
     "metadata": {},
     "output_type": "execute_result"
    }
   ],
   "source": [
    "my_story.split()"
   ]
  },
  {
   "cell_type": "code",
   "execution_count": 152,
   "id": "other-depth",
   "metadata": {},
   "outputs": [],
   "source": [
    "mydata = [(my_story.split(),my_question.split(),'yes')]"
   ]
  },
  {
   "cell_type": "code",
   "execution_count": 153,
   "id": "dried-passage",
   "metadata": {},
   "outputs": [],
   "source": [
    "my_story,my_ques,my_ans = vectorize_stories(mydata)"
   ]
  },
  {
   "cell_type": "code",
   "execution_count": 154,
   "id": "contemporary-minority",
   "metadata": {},
   "outputs": [],
   "source": [
    "pred_results = model.predict(([ my_story, my_ques]))"
   ]
  },
  {
   "cell_type": "code",
   "execution_count": 155,
   "id": "controlling-integral",
   "metadata": {},
   "outputs": [
    {
     "name": "stdout",
     "output_type": "stream",
     "text": [
      "Predicted answer is:  yes\n",
      "Probability of certainty was:  0.89885885\n"
     ]
    }
   ],
   "source": [
    "#Generate prediction from model\n",
    "val_max = np.argmax(pred_results[0])\n",
    "\n",
    "for key, val in tokenizer.word_index.items():\n",
    "    if val == val_max:\n",
    "        k = key\n",
    "\n",
    "print(\"Predicted answer is: \", k)\n",
    "print(\"Probability of certainty was: \", pred_results[0][val_max])"
   ]
  },
  {
   "cell_type": "code",
   "execution_count": null,
   "id": "harmful-ceiling",
   "metadata": {},
   "outputs": [],
   "source": []
  }
 ],
 "metadata": {
  "kernelspec": {
   "display_name": "Python 3",
   "language": "python",
   "name": "python3"
  },
  "language_info": {
   "codemirror_mode": {
    "name": "ipython",
    "version": 3
   },
   "file_extension": ".py",
   "mimetype": "text/x-python",
   "name": "python",
   "nbconvert_exporter": "python",
   "pygments_lexer": "ipython3",
   "version": "3.8.8"
  }
 },
 "nbformat": 4,
 "nbformat_minor": 5
}
